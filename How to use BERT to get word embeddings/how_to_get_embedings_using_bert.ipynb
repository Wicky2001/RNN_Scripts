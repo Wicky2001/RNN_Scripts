{
 "cells": [
  {
   "cell_type": "code",
   "execution_count": null,
   "metadata": {},
   "outputs": [],
   "source": [
    "from transformers import BertTokenizer,BertModel\n",
    "import torch\n",
    "\n",
    "model_name = 'bert-base-uncased'\n",
    "#get hold on the tokenizer\n",
    "tokenizer = BertTokenizer.from_pretrained(model_name)\n",
    "\n",
    "# Your full sentence\n",
    "sentence = \"Hello World My name\"\n",
    "\n",
    "\n",
    "\n",
    "# Tokenize and encode the sentence with padding and truncation\n",
    "input_ids = tokenizer.encode(\n",
    "    sentence,\n",
    "    max_length=400,\n",
    "    padding='max_length',  # Adds padding if the sentence is shorter than max_length\n",
    "    truncation=True        # Truncates the sentence if it's longer than max_length\n",
    ")\n",
    "\n",
    "\n",
    "model = BertModel.from_pretrained(model_name)\n",
    "\n",
    "# Convert input_ids to a tensor\n",
    "input_ids = torch.tensor([input_ids])\n",
    "print(input_ids)\n",
    "\n",
    "\n",
    "# Get the embeddings from the BERT model\n",
    "with torch.no_grad():\n",
    "    outputs = model(input_ids)\n",
    "    \n",
    "print(outputs.last_hidden_state)\n",
    "print(outputs.last_hidden_state.shape)"
   ]
  },
  {
   "cell_type": "markdown",
   "metadata": {},
   "source": [
    "## outputs.last_hidden_state\n",
    "\n",
    "Here the outputs contain multiple tensors but all we need is outputs.last_hidden_state. Here each token is represented by 768 features. So if we input 16 tokens we get [1,16,768] from the outputs.last_hidden_state. Here 1 is the batch size. If we pass 10 sentences the shape is [10,16,768]"
   ]
  },
  {
   "cell_type": "markdown",
   "metadata": {},
   "source": [
    "## tokenizer.encode()\n",
    "\n",
    "When we use this encode method directly,\n",
    "\n",
    "input_ids = tokenizer.encode()\n",
    "\n",
    "We do not want to use these stuff, \n",
    "\n",
    "tokens = tokenizer.tokenize(sentence)"
   ]
  }
 ],
 "metadata": {
  "language_info": {
   "name": "python"
  }
 },
 "nbformat": 4,
 "nbformat_minor": 2
}
